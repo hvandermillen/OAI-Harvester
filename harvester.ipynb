{
 "cells": [
  {
   "cell_type": "code",
   "execution_count": 1,
   "id": "1a8ed0e5-cc35-4b1e-b703-e0b99e4d6d85",
   "metadata": {
    "tags": []
   },
   "outputs": [
    {
     "name": "stdout",
     "output_type": "stream",
     "text": [
      "Collecting sickle\n",
      "  Obtaining dependency information for sickle from https://files.pythonhosted.org/packages/59/c4/e98ed4dfc15f51245e17626dab983ffde53f9f03ef5100938bcb4996427f/Sickle-0.7.0-py3-none-any.whl.metadata\n",
      "  Downloading Sickle-0.7.0-py3-none-any.whl.metadata (4.5 kB)\n",
      "Requirement already satisfied: requests>=1.1.0 in /Users/henryvandermillen/anaconda3/lib/python3.11/site-packages (from sickle) (2.31.0)\n",
      "Requirement already satisfied: lxml>=3.2.3 in /Users/henryvandermillen/anaconda3/lib/python3.11/site-packages (from sickle) (4.9.3)\n",
      "Requirement already satisfied: charset-normalizer<4,>=2 in /Users/henryvandermillen/anaconda3/lib/python3.11/site-packages (from requests>=1.1.0->sickle) (2.0.4)\n",
      "Requirement already satisfied: idna<4,>=2.5 in /Users/henryvandermillen/anaconda3/lib/python3.11/site-packages (from requests>=1.1.0->sickle) (3.4)\n",
      "Requirement already satisfied: urllib3<3,>=1.21.1 in /Users/henryvandermillen/anaconda3/lib/python3.11/site-packages (from requests>=1.1.0->sickle) (1.26.16)\n",
      "Requirement already satisfied: certifi>=2017.4.17 in /Users/henryvandermillen/anaconda3/lib/python3.11/site-packages (from requests>=1.1.0->sickle) (2024.2.2)\n",
      "Downloading Sickle-0.7.0-py3-none-any.whl (12 kB)\n",
      "Installing collected packages: sickle\n",
      "Successfully installed sickle-0.7.0\n",
      "Note: you may need to restart the kernel to use updated packages.\n"
     ]
    }
   ],
   "source": [
    "pip install sickle"
   ]
  },
  {
   "cell_type": "code",
   "execution_count": 2,
   "id": "0bd676de-2d0d-452c-a9ea-3eb6e83f2a83",
   "metadata": {
    "tags": []
   },
   "outputs": [],
   "source": [
    "from sickle import Sickle"
   ]
  },
  {
   "cell_type": "code",
   "execution_count": null,
   "id": "485e71bb-2200-40da-b08f-0c0cc6d49e0c",
   "metadata": {
    "tags": []
   },
   "outputs": [
    {
     "name": "stdout",
     "output_type": "stream",
     "text": [
      "john somes business records, 1793-1853 (inclusive), v.1\n",
      "henry lee higginson business records, 1799-1919 (inclusive), 1870-1919 (bulk), box xvi-8, folder 6\n",
      "slater family business records, 1793-1926 (inclusive), vol. g1 (slater almy &amp; brown, daybook: almy &amp; brown's account with spinning mills, 1793-1804) and vol. g3 (slater almy &amp; brown, daybook, february 1799-january 1815.)\n",
      "pearson family business records, 1684-1799, v.1\n",
      "pearson family business records, 1684-1799, v.2\n",
      "hancock family papers, 1664-1854 (inclusive), volume jh-6, john hancock letterbook (business), 1762-1783\n"
     ]
    }
   ],
   "source": [
    "woc = Sickle('https://api.lib.harvard.edu/oai/')\n",
    "# get a list of all records\n",
    "records = woc.ListRecords(metadataPrefix = 'mods', set='woc')\n",
    "\n",
    "searchTerm = 'business'\n",
    "\n",
    "for record in records:\n",
    "    nameRaw = record.metadata.get('title')\n",
    "    if isinstance(nameRaw, list): #if the record name is not nonetype\n",
    "        name = ''.join(nameRaw[0]).lower()\n",
    "        if isinstance(name, str) and searchTerm in name:\n",
    "            print(name)"
   ]
  }
 ],
 "metadata": {
  "kernelspec": {
   "display_name": "Python 3 (ipykernel)",
   "language": "python",
   "name": "python3"
  },
  "language_info": {
   "codemirror_mode": {
    "name": "ipython",
    "version": 3
   },
   "file_extension": ".py",
   "mimetype": "text/x-python",
   "name": "python",
   "nbconvert_exporter": "python",
   "pygments_lexer": "ipython3",
   "version": "3.11.5"
  }
 },
 "nbformat": 4,
 "nbformat_minor": 5
}
